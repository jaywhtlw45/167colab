{
  "nbformat": 4,
  "nbformat_minor": 0,
  "metadata": {
    "colab": {
      "provenance": [],
      "include_colab_link": true
    },
    "kernelspec": {
      "name": "python3",
      "display_name": "Python 3"
    },
    "language_info": {
      "name": "python"
    }
  },
  "cells": [
    {
      "cell_type": "markdown",
      "metadata": {
        "id": "view-in-github",
        "colab_type": "text"
      },
      "source": [
        "<a href=\"https://colab.research.google.com/github/jaywhtlw45/167colab/blob/main/Notebooks/Chap10/10_2_Convolution_for_MNIST_1D.ipynb\" target=\"_parent\"><img src=\"https://colab.research.google.com/assets/colab-badge.svg\" alt=\"Open In Colab\"/></a>"
      ]
    },
    {
      "cell_type": "markdown",
      "source": [
        "# **Notebook 10.2: Convolution for MNIST-1D**\n",
        "\n",
        "This notebook investigates a 1D convolutional network for MNIST-1D as in figure 10.7 and 10.8a.\n",
        "\n",
        "Work through the cells below, running each cell in turn. In various places you will see the words \"TO DO\". Follow the instructions at these places and make predictions about what is going to happen or write code to complete the functions.\n",
        "\n",
        "Contact me at udlbookmail@gmail.com if you find any mistakes or have any suggestions.\n",
        "\n"
      ],
      "metadata": {
        "id": "t9vk9Elugvmi"
      }
    },
    {
      "cell_type": "code",
      "source": [
        "# Run this if you're in a Colab to install MNIST 1D repository\n",
        "!pip install git+https://github.com/greydanus/mnist1d"
      ],
      "metadata": {
        "id": "D5yLObtZCi9J",
        "colab": {
          "base_uri": "https://localhost:8080/"
        },
        "outputId": "5ad4e8ef-86e8-4b36-fb43-517a60d8cc58"
      },
      "execution_count": 1,
      "outputs": [
        {
          "output_type": "stream",
          "name": "stdout",
          "text": [
            "Collecting git+https://github.com/greydanus/mnist1d\n",
            "  Cloning https://github.com/greydanus/mnist1d to /tmp/pip-req-build-n513fz8q\n",
            "  Running command git clone --filter=blob:none --quiet https://github.com/greydanus/mnist1d /tmp/pip-req-build-n513fz8q\n",
            "  Resolved https://github.com/greydanus/mnist1d to commit 7878d96082abd200c546a07a4101fa90b30fdf7e\n",
            "  Installing build dependencies ... \u001b[?25l\u001b[?25hdone\n",
            "  Getting requirements to build wheel ... \u001b[?25l\u001b[?25hdone\n",
            "  Preparing metadata (pyproject.toml) ... \u001b[?25l\u001b[?25hdone\n",
            "Requirement already satisfied: requests in /usr/local/lib/python3.10/dist-packages (from mnist1d==0.0.2.post16) (2.32.3)\n",
            "Requirement already satisfied: numpy in /usr/local/lib/python3.10/dist-packages (from mnist1d==0.0.2.post16) (1.26.4)\n",
            "Requirement already satisfied: matplotlib in /usr/local/lib/python3.10/dist-packages (from mnist1d==0.0.2.post16) (3.8.0)\n",
            "Requirement already satisfied: scipy in /usr/local/lib/python3.10/dist-packages (from mnist1d==0.0.2.post16) (1.13.1)\n",
            "Requirement already satisfied: contourpy>=1.0.1 in /usr/local/lib/python3.10/dist-packages (from matplotlib->mnist1d==0.0.2.post16) (1.3.0)\n",
            "Requirement already satisfied: cycler>=0.10 in /usr/local/lib/python3.10/dist-packages (from matplotlib->mnist1d==0.0.2.post16) (0.12.1)\n",
            "Requirement already satisfied: fonttools>=4.22.0 in /usr/local/lib/python3.10/dist-packages (from matplotlib->mnist1d==0.0.2.post16) (4.54.1)\n",
            "Requirement already satisfied: kiwisolver>=1.0.1 in /usr/local/lib/python3.10/dist-packages (from matplotlib->mnist1d==0.0.2.post16) (1.4.7)\n",
            "Requirement already satisfied: packaging>=20.0 in /usr/local/lib/python3.10/dist-packages (from matplotlib->mnist1d==0.0.2.post16) (24.1)\n",
            "Requirement already satisfied: pillow>=6.2.0 in /usr/local/lib/python3.10/dist-packages (from matplotlib->mnist1d==0.0.2.post16) (10.4.0)\n",
            "Requirement already satisfied: pyparsing>=2.3.1 in /usr/local/lib/python3.10/dist-packages (from matplotlib->mnist1d==0.0.2.post16) (3.2.0)\n",
            "Requirement already satisfied: python-dateutil>=2.7 in /usr/local/lib/python3.10/dist-packages (from matplotlib->mnist1d==0.0.2.post16) (2.8.2)\n",
            "Requirement already satisfied: charset-normalizer<4,>=2 in /usr/local/lib/python3.10/dist-packages (from requests->mnist1d==0.0.2.post16) (3.4.0)\n",
            "Requirement already satisfied: idna<4,>=2.5 in /usr/local/lib/python3.10/dist-packages (from requests->mnist1d==0.0.2.post16) (3.10)\n",
            "Requirement already satisfied: urllib3<3,>=1.21.1 in /usr/local/lib/python3.10/dist-packages (from requests->mnist1d==0.0.2.post16) (2.2.3)\n",
            "Requirement already satisfied: certifi>=2017.4.17 in /usr/local/lib/python3.10/dist-packages (from requests->mnist1d==0.0.2.post16) (2024.8.30)\n",
            "Requirement already satisfied: six>=1.5 in /usr/local/lib/python3.10/dist-packages (from python-dateutil>=2.7->matplotlib->mnist1d==0.0.2.post16) (1.16.0)\n",
            "Building wheels for collected packages: mnist1d\n",
            "  Building wheel for mnist1d (pyproject.toml) ... \u001b[?25l\u001b[?25hdone\n",
            "  Created wheel for mnist1d: filename=mnist1d-0.0.2.post16-py3-none-any.whl size=14624 sha256=0fdb14afc69f6cc01972eab3efce33b478d9654a96270bfa55542296d7a74df7\n",
            "  Stored in directory: /tmp/pip-ephem-wheel-cache-26fcgp1n/wheels/41/95/55/45fcf7d38cfa97e35682da6c5017d4513729131326ce935371\n",
            "Successfully built mnist1d\n",
            "Installing collected packages: mnist1d\n",
            "Successfully installed mnist1d-0.0.2.post16\n"
          ]
        }
      ]
    },
    {
      "cell_type": "code",
      "source": [
        "import numpy as np\n",
        "import os\n",
        "import torch, torch.nn as nn\n",
        "from torch.utils.data import TensorDataset, DataLoader\n",
        "from torch.optim.lr_scheduler import StepLR\n",
        "import matplotlib.pyplot as plt\n",
        "import mnist1d\n",
        "import random"
      ],
      "metadata": {
        "id": "YrXWAH7sUWvU"
      },
      "execution_count": 2,
      "outputs": []
    },
    {
      "cell_type": "code",
      "source": [
        "args = mnist1d.data.get_dataset_args()\n",
        "data = mnist1d.data.get_dataset(args, path='./mnist1d_data.pkl', download=False, regenerate=False)\n",
        "\n",
        "# The training and test input and outputs are in\n",
        "# data['x'], data['y'], data['x_test'], and data['y_test']\n",
        "print(\"Examples in training set: {}\".format(len(data['y'])))\n",
        "print(\"Examples in test set: {}\".format(len(data['y_test'])))\n",
        "print(\"Length of each example: {}\".format(data['x'].shape[-1]))"
      ],
      "metadata": {
        "id": "twI72ZCrCt5z",
        "colab": {
          "base_uri": "https://localhost:8080/"
        },
        "outputId": "e9575415-2a60-46fb-ff3c-68d3adff84ce"
      },
      "execution_count": 3,
      "outputs": [
        {
          "output_type": "stream",
          "name": "stdout",
          "text": [
            "Did or could not load data from ./mnist1d_data.pkl. Rebuilding dataset...\n",
            "Examples in training set: 4000\n",
            "Examples in test set: 1000\n",
            "Length of each example: 40\n"
          ]
        }
      ]
    },
    {
      "cell_type": "code",
      "source": [
        "# Load in the data\n",
        "train_data_x = data['x'].transpose()\n",
        "train_data_y = data['y']\n",
        "val_data_x = data['x_test'].transpose()\n",
        "val_data_y = data['y_test']\n",
        "# Print out sizes\n",
        "print(\"Train data: %d examples (columns), each of which has %d dimensions (rows)\"%((train_data_x.shape[1],train_data_x.shape[0])))\n",
        "print(\"Validation data: %d examples (columns), each of which has %d dimensions (rows)\"%((val_data_x.shape[1],val_data_x.shape[0])))"
      ],
      "metadata": {
        "id": "8bKADvLHbiV5",
        "colab": {
          "base_uri": "https://localhost:8080/"
        },
        "outputId": "ce1695a2-e576-4bb5-842f-c191a6ea0d2b"
      },
      "execution_count": 4,
      "outputs": [
        {
          "output_type": "stream",
          "name": "stdout",
          "text": [
            "Train data: 4000 examples (columns), each of which has 40 dimensions (rows)\n",
            "Validation data: 1000 examples (columns), each of which has 40 dimensions (rows)\n"
          ]
        }
      ]
    },
    {
      "cell_type": "markdown",
      "source": [
        "Define the network"
      ],
      "metadata": {
        "id": "_sFvRDGrl4qe"
      }
    },
    {
      "cell_type": "code",
      "source": [
        "# There are 40 input dimensions and 10 output dimensions for this data\n",
        "# The inputs correspond to the 40 offsets in the MNIST1D template.\n",
        "D_i = 40\n",
        "# The outputs correspond to the 10 digits\n",
        "D_o = 10\n",
        "\n",
        "\n",
        "# TODO Create a model with the following layers\n",
        "# 1. Convolutional layer, (input=length 40 and 1 channel, kernel size 3, stride 2, padding=\"valid\", 15 output channels )\n",
        "# 2. ReLU\n",
        "# 3. Convolutional layer, (input=length 19 and 15 channels, kernel size 3, stride 2, padding=\"valid\", 15 output channels )\n",
        "# 4. ReLU\n",
        "# 5. Convolutional layer, (input=length 9 and 15 channels, kernel size 3, stride 2, padding=\"valid\", 15 output channels)\n",
        "# 6. ReLU\n",
        "# 7. Flatten (converts 4x15) to length 60\n",
        "# 8. Linear layer (input size = 60, output size = 10)\n",
        "# References:\n",
        "# https://pytorch.org/docs/1.13/generated/torch.nn.Conv1d.html?highlight=conv1d#torch.nn.Conv1d\n",
        "# https://pytorch.org/docs/stable/generated/torch.nn.Flatten.html\n",
        "# https://pytorch.org/docs/1.13/generated/torch.nn.Linear.html?highlight=linear#torch.nn.Linear\n",
        "\n",
        "# NOTE THAT THE CONVOLUTIONAL LAYERS NEED TO TAKE THE NUMBER OF INPUT CHANNELS AS A PARAMETER\n",
        "# AND NOT THE INPUT SIZE.\n",
        "\n",
        "# Replace the following function:\n",
        "model = nn.Sequential(\n",
        "    nn.Conv1d(in_channels=1, out_channels=15, kernel_size=3, stride=2, padding=\"valid\"),\n",
        "    nn.ReLU(),\n",
        "    nn.Conv1d(in_channels=15, out_channels=15, kernel_size=3, stride=2, padding=\"valid\"),\n",
        "    nn.ReLU(),\n",
        "    nn.Conv1d(in_channels=15, out_channels=15, kernel_size=3, stride=2, padding=\"valid\"),\n",
        "    nn.ReLU(),\n",
        "    nn.Flatten(),\n",
        "    nn.Linear(60, 10)\n",
        ")\n",
        "\n",
        "# given the complexity of the image you can think about how many features you need to learn about to represent the high level concept of the image\n",
        "\n",
        "\n"
      ],
      "metadata": {
        "id": "FslroPJJffrh"
      },
      "execution_count": 9,
      "outputs": []
    },
    {
      "cell_type": "code",
      "source": [
        "# He initialization of weights\n",
        "def weights_init(layer_in):\n",
        "  if isinstance(layer_in, nn.Linear):\n",
        "    nn.init.kaiming_uniform_(layer_in.weight)\n",
        "    layer_in.bias.data.fill_(0.0)"
      ],
      "metadata": {
        "id": "YgLaex1pfhqz"
      },
      "execution_count": 10,
      "outputs": []
    },
    {
      "cell_type": "code",
      "source": [
        "# choose cross entropy loss function (equation 5.24 in the loss notes)\n",
        "loss_function = nn.CrossEntropyLoss()\n",
        "# construct SGD optimizer and initialize learning rate and momentum\n",
        "optimizer = torch.optim.SGD(model.parameters(), lr = 0.05, momentum=0.9)\n",
        "# object that decreases learning rate by half every 20 epochs\n",
        "scheduler = StepLR(optimizer, step_size=20, gamma=0.5)\n",
        "# create 100 dummy data points and store in data loader class\n",
        "x_train = torch.tensor(train_data_x.transpose().astype('float32'))\n",
        "y_train = torch.tensor(train_data_y.astype('long')).long()\n",
        "x_val= torch.tensor(val_data_x.transpose().astype('float32'))\n",
        "y_val = torch.tensor(val_data_y.astype('long')).long()\n",
        "\n",
        "# load the data into a class that creates the batches\n",
        "data_loader = DataLoader(TensorDataset(x_train,y_train), batch_size=100, shuffle=True, worker_init_fn=np.random.seed(1))\n",
        "\n",
        "# Initialize model weights\n",
        "model.apply(weights_init)\n",
        "\n",
        "# loop over the dataset n_epoch times\n",
        "n_epoch = 100\n",
        "# store the loss and the % correct at each epoch\n",
        "losses_train = np.zeros((n_epoch))\n",
        "errors_train = np.zeros((n_epoch))\n",
        "losses_val = np.zeros((n_epoch))\n",
        "errors_val = np.zeros((n_epoch))\n",
        "\n",
        "for epoch in range(n_epoch):\n",
        "  # loop over batches\n",
        "  for i, data in enumerate(data_loader):\n",
        "    # retrieve inputs and labels for this batch\n",
        "    x_batch, y_batch = data\n",
        "    # zero the parameter gradients\n",
        "    optimizer.zero_grad()\n",
        "    # forward pass -- calculate model output\n",
        "    pred = model(x_batch[:,None,:])\n",
        "    # compute the loss\n",
        "    loss = loss_function(pred, y_batch)\n",
        "    # backward pass\n",
        "    loss.backward()\n",
        "    # SGD update\n",
        "    optimizer.step()\n",
        "\n",
        "  # Run whole dataset to get statistics -- normally wouldn't do this\n",
        "  pred_train = model(x_train[:,None,:])\n",
        "  pred_val = model(x_val[:,None,:])\n",
        "  _, predicted_train_class = torch.max(pred_train.data, 1)\n",
        "  _, predicted_val_class = torch.max(pred_val.data, 1)\n",
        "  errors_train[epoch] = 100 - 100 * (predicted_train_class == y_train).float().sum() / len(y_train)\n",
        "  errors_val[epoch]= 100 - 100 * (predicted_val_class == y_val).float().sum() / len(y_val)\n",
        "  losses_train[epoch] = loss_function(pred_train, y_train).item()\n",
        "  losses_val[epoch]= loss_function(pred_val, y_val).item()\n",
        "  print(f'Epoch {epoch:5d}, train loss {losses_train[epoch]:.6f}, train error {errors_train[epoch]:3.2f},  val loss {losses_val[epoch]:.6f}, percent error {errors_val[epoch]:3.2f}')\n",
        "\n",
        "  # tell scheduler to consider updating learning rate\n",
        "  scheduler.step()\n",
        "\n",
        "# Plot the results\n",
        "fig, ax = plt.subplots()\n",
        "ax.plot(errors_train,'r-',label='train')\n",
        "ax.plot(errors_val,'b-',label='validation')\n",
        "ax.set_ylim(0,100); ax.set_xlim(0,n_epoch)\n",
        "ax.set_xlabel('Epoch'); ax.set_ylabel('Error')\n",
        "ax.set_title('Part I: Validation Result %3.2f'%(errors_val[-1]))\n",
        "ax.legend()\n",
        "plt.show()"
      ],
      "metadata": {
        "id": "NYw8I_3mmX5c",
        "colab": {
          "base_uri": "https://localhost:8080/",
          "height": 1000
        },
        "outputId": "b523f7c7-c526-4b89-b34f-35f8b42e41fd"
      },
      "execution_count": 11,
      "outputs": [
        {
          "output_type": "stream",
          "name": "stdout",
          "text": [
            "Epoch     0, train loss 1.887095, train error 75.75,  val loss 1.904250, percent error 78.00\n",
            "Epoch     1, train loss 1.503945, train error 60.60,  val loss 1.543720, percent error 61.90\n",
            "Epoch     2, train loss 1.318783, train error 52.60,  val loss 1.340707, percent error 56.80\n",
            "Epoch     3, train loss 1.278765, train error 51.08,  val loss 1.315704, percent error 56.90\n",
            "Epoch     4, train loss 1.191570, train error 47.97,  val loss 1.247553, percent error 52.50\n",
            "Epoch     5, train loss 1.150782, train error 46.70,  val loss 1.194412, percent error 48.90\n",
            "Epoch     6, train loss 0.958951, train error 38.25,  val loss 1.026745, percent error 43.90\n",
            "Epoch     7, train loss 0.825106, train error 32.15,  val loss 0.891805, percent error 36.30\n",
            "Epoch     8, train loss 0.770395, train error 30.47,  val loss 0.814093, percent error 32.20\n",
            "Epoch     9, train loss 0.691383, train error 28.07,  val loss 0.753663, percent error 30.10\n",
            "Epoch    10, train loss 0.619217, train error 24.62,  val loss 0.688415, percent error 28.30\n",
            "Epoch    11, train loss 0.596877, train error 22.75,  val loss 0.682247, percent error 25.70\n",
            "Epoch    12, train loss 0.488339, train error 19.12,  val loss 0.602052, percent error 24.30\n",
            "Epoch    13, train loss 0.455402, train error 17.43,  val loss 0.564210, percent error 21.20\n",
            "Epoch    14, train loss 0.404381, train error 15.43,  val loss 0.532592, percent error 20.90\n",
            "Epoch    15, train loss 0.408966, train error 16.03,  val loss 0.547684, percent error 20.40\n",
            "Epoch    16, train loss 0.347169, train error 12.82,  val loss 0.507008, percent error 17.40\n",
            "Epoch    17, train loss 0.288248, train error 10.50,  val loss 0.448491, percent error 16.80\n",
            "Epoch    18, train loss 0.278747, train error 10.38,  val loss 0.443659, percent error 15.60\n",
            "Epoch    19, train loss 0.267440, train error 9.65,  val loss 0.457729, percent error 15.00\n",
            "Epoch    20, train loss 0.187421, train error 6.25,  val loss 0.374720, percent error 11.80\n",
            "Epoch    21, train loss 0.215715, train error 7.80,  val loss 0.444243, percent error 13.20\n",
            "Epoch    22, train loss 0.176444, train error 5.97,  val loss 0.389382, percent error 11.80\n",
            "Epoch    23, train loss 0.164591, train error 5.93,  val loss 0.386972, percent error 11.20\n",
            "Epoch    24, train loss 0.171833, train error 5.90,  val loss 0.405525, percent error 12.60\n",
            "Epoch    25, train loss 0.179798, train error 5.95,  val loss 0.409378, percent error 12.20\n",
            "Epoch    26, train loss 0.138756, train error 4.25,  val loss 0.384434, percent error 10.10\n",
            "Epoch    27, train loss 0.141122, train error 4.53,  val loss 0.396906, percent error 11.20\n",
            "Epoch    28, train loss 0.127658, train error 4.00,  val loss 0.393682, percent error 11.60\n",
            "Epoch    29, train loss 0.123627, train error 4.43,  val loss 0.399781, percent error 10.70\n",
            "Epoch    30, train loss 0.119879, train error 3.88,  val loss 0.398006, percent error 10.60\n",
            "Epoch    31, train loss 0.116679, train error 3.90,  val loss 0.385818, percent error 10.10\n",
            "Epoch    32, train loss 0.107857, train error 3.45,  val loss 0.375922, percent error 10.10\n",
            "Epoch    33, train loss 0.109243, train error 3.53,  val loss 0.400799, percent error 11.60\n",
            "Epoch    34, train loss 0.108402, train error 3.75,  val loss 0.419316, percent error 10.70\n",
            "Epoch    35, train loss 0.148989, train error 5.22,  val loss 0.435351, percent error 11.50\n",
            "Epoch    36, train loss 0.117047, train error 4.00,  val loss 0.389005, percent error 9.90\n",
            "Epoch    37, train loss 0.097451, train error 3.32,  val loss 0.412961, percent error 11.50\n",
            "Epoch    38, train loss 0.080270, train error 2.35,  val loss 0.388412, percent error 10.30\n",
            "Epoch    39, train loss 0.089092, train error 2.65,  val loss 0.394769, percent error 10.30\n",
            "Epoch    40, train loss 0.069342, train error 1.80,  val loss 0.388078, percent error 9.80\n",
            "Epoch    41, train loss 0.064027, train error 1.65,  val loss 0.387544, percent error 9.90\n",
            "Epoch    42, train loss 0.062311, train error 1.57,  val loss 0.396537, percent error 9.90\n",
            "Epoch    43, train loss 0.062823, train error 1.60,  val loss 0.389294, percent error 9.50\n",
            "Epoch    44, train loss 0.060374, train error 1.55,  val loss 0.398728, percent error 9.80\n",
            "Epoch    45, train loss 0.064443, train error 1.93,  val loss 0.399331, percent error 9.80\n",
            "Epoch    46, train loss 0.064016, train error 2.00,  val loss 0.408895, percent error 9.70\n",
            "Epoch    47, train loss 0.057918, train error 1.45,  val loss 0.393041, percent error 10.00\n",
            "Epoch    48, train loss 0.052653, train error 1.25,  val loss 0.398794, percent error 9.90\n",
            "Epoch    49, train loss 0.051120, train error 1.10,  val loss 0.403293, percent error 10.10\n",
            "Epoch    50, train loss 0.051305, train error 1.12,  val loss 0.413351, percent error 9.40\n",
            "Epoch    51, train loss 0.051751, train error 1.38,  val loss 0.406337, percent error 10.30\n",
            "Epoch    52, train loss 0.048155, train error 0.93,  val loss 0.400434, percent error 9.60\n",
            "Epoch    53, train loss 0.050059, train error 0.95,  val loss 0.421475, percent error 10.10\n",
            "Epoch    54, train loss 0.045146, train error 0.93,  val loss 0.412513, percent error 9.20\n",
            "Epoch    55, train loss 0.047292, train error 1.03,  val loss 0.420360, percent error 9.90\n",
            "Epoch    56, train loss 0.044152, train error 0.90,  val loss 0.419696, percent error 10.00\n",
            "Epoch    57, train loss 0.042619, train error 0.88,  val loss 0.419376, percent error 9.60\n",
            "Epoch    58, train loss 0.043157, train error 0.88,  val loss 0.411624, percent error 10.10\n",
            "Epoch    59, train loss 0.046958, train error 1.22,  val loss 0.437777, percent error 9.70\n",
            "Epoch    60, train loss 0.037961, train error 0.68,  val loss 0.423123, percent error 9.70\n",
            "Epoch    61, train loss 0.038267, train error 0.70,  val loss 0.427020, percent error 9.70\n",
            "Epoch    62, train loss 0.037594, train error 0.68,  val loss 0.427356, percent error 9.50\n",
            "Epoch    63, train loss 0.036830, train error 0.65,  val loss 0.425945, percent error 9.60\n",
            "Epoch    64, train loss 0.036118, train error 0.62,  val loss 0.428136, percent error 9.70\n",
            "Epoch    65, train loss 0.037242, train error 0.62,  val loss 0.433665, percent error 9.80\n",
            "Epoch    66, train loss 0.035214, train error 0.57,  val loss 0.431389, percent error 9.70\n",
            "Epoch    67, train loss 0.035521, train error 0.62,  val loss 0.429341, percent error 9.70\n",
            "Epoch    68, train loss 0.035835, train error 0.57,  val loss 0.437586, percent error 9.60\n",
            "Epoch    69, train loss 0.036293, train error 0.68,  val loss 0.440176, percent error 9.80\n",
            "Epoch    70, train loss 0.034049, train error 0.50,  val loss 0.440087, percent error 9.80\n",
            "Epoch    71, train loss 0.033196, train error 0.53,  val loss 0.435431, percent error 9.40\n",
            "Epoch    72, train loss 0.032346, train error 0.47,  val loss 0.435831, percent error 9.60\n",
            "Epoch    73, train loss 0.033417, train error 0.47,  val loss 0.437339, percent error 9.60\n",
            "Epoch    74, train loss 0.032003, train error 0.45,  val loss 0.439947, percent error 9.60\n",
            "Epoch    75, train loss 0.034367, train error 0.60,  val loss 0.447598, percent error 9.70\n",
            "Epoch    76, train loss 0.031573, train error 0.55,  val loss 0.440415, percent error 9.60\n",
            "Epoch    77, train loss 0.030600, train error 0.43,  val loss 0.440737, percent error 9.40\n",
            "Epoch    78, train loss 0.031526, train error 0.55,  val loss 0.449005, percent error 9.80\n",
            "Epoch    79, train loss 0.029923, train error 0.45,  val loss 0.447844, percent error 9.80\n",
            "Epoch    80, train loss 0.030196, train error 0.45,  val loss 0.445222, percent error 9.50\n",
            "Epoch    81, train loss 0.029800, train error 0.40,  val loss 0.444844, percent error 9.70\n",
            "Epoch    82, train loss 0.029166, train error 0.35,  val loss 0.446745, percent error 9.70\n",
            "Epoch    83, train loss 0.029190, train error 0.45,  val loss 0.445925, percent error 9.50\n",
            "Epoch    84, train loss 0.029401, train error 0.38,  val loss 0.453140, percent error 10.10\n",
            "Epoch    85, train loss 0.028624, train error 0.38,  val loss 0.447797, percent error 9.60\n",
            "Epoch    86, train loss 0.028426, train error 0.38,  val loss 0.448303, percent error 9.80\n",
            "Epoch    87, train loss 0.028226, train error 0.32,  val loss 0.450907, percent error 9.80\n",
            "Epoch    88, train loss 0.028020, train error 0.35,  val loss 0.451214, percent error 9.70\n",
            "Epoch    89, train loss 0.027912, train error 0.32,  val loss 0.450500, percent error 9.70\n",
            "Epoch    90, train loss 0.028184, train error 0.40,  val loss 0.451041, percent error 9.80\n",
            "Epoch    91, train loss 0.027881, train error 0.30,  val loss 0.453837, percent error 10.10\n",
            "Epoch    92, train loss 0.027636, train error 0.35,  val loss 0.453254, percent error 9.70\n",
            "Epoch    93, train loss 0.027227, train error 0.32,  val loss 0.454612, percent error 9.90\n",
            "Epoch    94, train loss 0.027103, train error 0.30,  val loss 0.456723, percent error 10.00\n",
            "Epoch    95, train loss 0.027817, train error 0.35,  val loss 0.458427, percent error 9.80\n",
            "Epoch    96, train loss 0.026947, train error 0.32,  val loss 0.457411, percent error 9.90\n",
            "Epoch    97, train loss 0.026662, train error 0.35,  val loss 0.454498, percent error 9.70\n",
            "Epoch    98, train loss 0.026569, train error 0.32,  val loss 0.455472, percent error 9.50\n",
            "Epoch    99, train loss 0.026593, train error 0.32,  val loss 0.457018, percent error 9.70\n"
          ]
        },
        {
          "output_type": "display_data",
          "data": {
            "text/plain": [
              "<Figure size 640x480 with 1 Axes>"
            ],
            "image/png": "[encoded data removed]"
          },
          "metadata": {}
        }
      ]
    }
  ]
}