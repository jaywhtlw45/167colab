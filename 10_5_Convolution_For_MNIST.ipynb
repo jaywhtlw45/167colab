{
  "nbformat": 4,
  "nbformat_minor": 0,
  "metadata": {
    "colab": {
      "provenance": [],
      "include_colab_link": true
    },
    "kernelspec": {
      "name": "python3",
      "display_name": "Python 3"
    },
    "language_info": {
      "name": "python"
    }
  },
  "cells": [
    {
      "cell_type": "markdown",
      "metadata": {
        "id": "view-in-github",
        "colab_type": "text"
      },
      "source": [
        "<a href=\"https://colab.research.google.com/github/jaywhtlw45/167colab/blob/main/10_5_Convolution_For_MNIST.ipynb\" target=\"_parent\"><img src=\"https://colab.research.google.com/assets/colab-badge.svg\" alt=\"Open In Colab\"/></a>"
      ]
    },
    {
      "cell_type": "markdown",
      "source": [
        "# **Notebook 10.5: Convolution for MNIST**\n",
        "\n",
        "This notebook builds a proper network for 2D convolution.  It works with the MNIST dataset (figure 15.15a), which was the original classic dataset for classifying images.  The network will take a 28x28 grayscale image and classify it into one of 10 classes representing a digit.\n",
        "\n",
        "The code is adapted from https://nextjournal.com/gkoehler/pytorch-mnist\n",
        "\n",
        "Work through the cells below, running each cell in turn. In various places you will see the words \"TO DO\". Follow the instructions at these places and make predictions about what is going to happen or write code to complete the functions.\n",
        "\n",
        "Contact me at udlbookmail@gmail.com if you find any mistakes or have any suggestions.\n"
      ],
      "metadata": {
        "id": "t9vk9Elugvmi"
      }
    },
    {
      "cell_type": "code",
      "source": [
        "import torch\n",
        "import torchvision\n",
        "import torch.nn as nn\n",
        "import torch.nn.functional as F\n",
        "import torch.optim as optim\n",
        "import matplotlib.pyplot as plt\n",
        "import random"
      ],
      "metadata": {
        "id": "YrXWAH7sUWvU"
      },
      "execution_count": 1,
      "outputs": []
    },
    {
      "cell_type": "code",
      "source": [
        "# Run this once to load the train and test data straight into a dataloader class\n",
        "# that will provide the batches\n",
        "\n",
        "# (It may complain that some files are missing because the files seem to have been\n",
        "# reorganized on the underlying website, but it still seems to work). If everything is working\n",
        "# properly, then the whole notebook should run to the end without further problems\n",
        "# even before you make changes.\n",
        "batch_size_train = 64\n",
        "batch_size_test = 1000\n",
        "\n",
        "# TODO Change this directory to point towards an existing directory\n",
        "myDir = '/files/'\n",
        "\n",
        "train_loader = torch.utils.data.DataLoader(\n",
        "  torchvision.datasets.MNIST(myDir, train=True, download=True,\n",
        "                             transform=torchvision.transforms.Compose([\n",
        "                               torchvision.transforms.ToTensor(),\n",
        "                               torchvision.transforms.Normalize(\n",
        "                                 (0.1307,), (0.3081,))\n",
        "                             ])),\n",
        "  batch_size=batch_size_train, shuffle=True)\n",
        "\n",
        "test_loader = torch.utils.data.DataLoader(\n",
        "  torchvision.datasets.MNIST(myDir, train=False, download=True,\n",
        "                             transform=torchvision.transforms.Compose([\n",
        "                               torchvision.transforms.ToTensor(),\n",
        "                               torchvision.transforms.Normalize(\n",
        "                                 (0.1307,), (0.3081,))\n",
        "                             ])),\n",
        "  batch_size=batch_size_test, shuffle=True)"
      ],
      "metadata": {
        "id": "wScBGXXFVadm",
        "outputId": "36377a1b-aa49-4886-c39e-986ee15a3b47",
        "colab": {
          "base_uri": "https://localhost:8080/"
        }
      },
      "execution_count": 2,
      "outputs": [
        {
          "output_type": "stream",
          "name": "stdout",
          "text": [
            "Downloading http://yann.lecun.com/exdb/mnist/train-images-idx3-ubyte.gz\n",
            "Failed to download (trying next):\n",
            "<urlopen error [SSL: CERTIFICATE_VERIFY_FAILED] certificate verify failed: certificate has expired (_ssl.c:1007)>\n",
            "\n",
            "Downloading https://ossci-datasets.s3.amazonaws.com/mnist/train-images-idx3-ubyte.gz\n",
            "Downloading https://ossci-datasets.s3.amazonaws.com/mnist/train-images-idx3-ubyte.gz to /files/MNIST/raw/train-images-idx3-ubyte.gz\n"
          ]
        },
        {
          "output_type": "stream",
          "name": "stderr",
          "text": [
            "100%|██████████| 9.91M/9.91M [00:00<00:00, 35.8MB/s]\n"
          ]
        },
        {
          "output_type": "stream",
          "name": "stdout",
          "text": [
            "Extracting /files/MNIST/raw/train-images-idx3-ubyte.gz to /files/MNIST/raw\n",
            "\n",
            "Downloading http://yann.lecun.com/exdb/mnist/train-labels-idx1-ubyte.gz\n",
            "Failed to download (trying next):\n",
            "<urlopen error [SSL: CERTIFICATE_VERIFY_FAILED] certificate verify failed: certificate has expired (_ssl.c:1007)>\n",
            "\n",
            "Downloading https://ossci-datasets.s3.amazonaws.com/mnist/train-labels-idx1-ubyte.gz\n",
            "Downloading https://ossci-datasets.s3.amazonaws.com/mnist/train-labels-idx1-ubyte.gz to /files/MNIST/raw/train-labels-idx1-ubyte.gz\n"
          ]
        },
        {
          "output_type": "stream",
          "name": "stderr",
          "text": [
            "100%|██████████| 28.9k/28.9k [00:00<00:00, 1.22MB/s]"
          ]
        },
        {
          "output_type": "stream",
          "name": "stdout",
          "text": [
            "Extracting /files/MNIST/raw/train-labels-idx1-ubyte.gz to /files/MNIST/raw\n",
            "\n",
            "Downloading http://yann.lecun.com/exdb/mnist/t10k-images-idx3-ubyte.gz\n"
          ]
        },
        {
          "output_type": "stream",
          "name": "stderr",
          "text": [
            "\n"
          ]
        },
        {
          "output_type": "stream",
          "name": "stdout",
          "text": [
            "Failed to download (trying next):\n",
            "<urlopen error [SSL: CERTIFICATE_VERIFY_FAILED] certificate verify failed: certificate has expired (_ssl.c:1007)>\n",
            "\n",
            "Downloading https://ossci-datasets.s3.amazonaws.com/mnist/t10k-images-idx3-ubyte.gz\n",
            "Downloading https://ossci-datasets.s3.amazonaws.com/mnist/t10k-images-idx3-ubyte.gz to /files/MNIST/raw/t10k-images-idx3-ubyte.gz\n"
          ]
        },
        {
          "output_type": "stream",
          "name": "stderr",
          "text": [
            "100%|██████████| 1.65M/1.65M [00:00<00:00, 10.2MB/s]\n"
          ]
        },
        {
          "output_type": "stream",
          "name": "stdout",
          "text": [
            "Extracting /files/MNIST/raw/t10k-images-idx3-ubyte.gz to /files/MNIST/raw\n",
            "\n",
            "Downloading http://yann.lecun.com/exdb/mnist/t10k-labels-idx1-ubyte.gz\n",
            "Failed to download (trying next):\n",
            "<urlopen error [SSL: CERTIFICATE_VERIFY_FAILED] certificate verify failed: certificate has expired (_ssl.c:1007)>\n",
            "\n",
            "Downloading https://ossci-datasets.s3.amazonaws.com/mnist/t10k-labels-idx1-ubyte.gz\n",
            "Downloading https://ossci-datasets.s3.amazonaws.com/mnist/t10k-labels-idx1-ubyte.gz to /files/MNIST/raw/t10k-labels-idx1-ubyte.gz\n"
          ]
        },
        {
          "output_type": "stream",
          "name": "stderr",
          "text": [
            "100%|██████████| 4.54k/4.54k [00:00<00:00, 2.18MB/s]\n"
          ]
        },
        {
          "output_type": "stream",
          "name": "stdout",
          "text": [
            "Extracting /files/MNIST/raw/t10k-labels-idx1-ubyte.gz to /files/MNIST/raw\n",
            "\n"
          ]
        }
      ]
    },
    {
      "cell_type": "code",
      "source": [
        "# Let's draw some of the training data\n",
        "examples = enumerate(test_loader)\n",
        "batch_idx, (example_data, example_targets) = next(examples)\n",
        "\n",
        "fig = plt.figure()\n",
        "for i in range(6):\n",
        "  plt.subplot(2,3,i+1)\n",
        "  plt.tight_layout()\n",
        "  plt.imshow(example_data[i][0], cmap='gray', interpolation='none')\n",
        "  plt.title(\"Ground Truth: {}\".format(example_targets[i]))\n",
        "  plt.xticks([])\n",
        "  plt.yticks([])\n",
        "plt.show()"
      ],
      "metadata": {
        "id": "8bKADvLHbiV5",
        "outputId": "a7c1ab77-f4cd-47ef-9423-3f0052106fc9",
        "colab": {
          "base_uri": "https://localhost:8080/",
          "height": 438
        }
      },
      "execution_count": 3,
      "outputs": [
        {
          "output_type": "display_data",
          "data": {
            "text/plain": [
              "<Figure size 640x480 with 6 Axes>"
            ],
            "image/png": "[encoded data removed]"
          },
          "metadata": {}
        }
      ]
    },
    {
      "cell_type": "markdown",
      "source": [
        "Define the network.  This is a more typical way to define a network than the sequential structure.  We define a class for the network, and define the parameters in the constructor.  Then we use a function called forward to actually run the network.  It's easy to see how you might use residual connections in this format."
      ],
      "metadata": {
        "id": "_sFvRDGrl4qe"
      }
    },
    {
      "cell_type": "code",
      "source": [
        "from os import X_OK\n",
        "# TODO Change this class to implement\n",
        "# 1. A valid convolution with kernel size 5, 1 input channel and 10 output channels\n",
        "# 2. A max pooling operation over a 2x2 area\n",
        "# 3. A Relu\n",
        "# 4. A valid convolution with kernel size 5, 10 input channels and 20 output channels\n",
        "# 5. A 2D Dropout layer\n",
        "# 6. A max pooling operation over a 2x2 area\n",
        "# 7. A relu\n",
        "# 8. A flattening operation\n",
        "# 9. A fully connected layer mapping from (whatever dimensions we are at-- find out using .shape) to 50\n",
        "# 10. A ReLU\n",
        "# 11. A fully connected layer mapping from 50 to 10 dimensions\n",
        "# 12. A softmax function.\n",
        "\n",
        "# Replace this class which implements a minimal network (which still does okay)\n",
        "class Net(nn.Module):\n",
        "    def __init__(self):\n",
        "        super(Net, self).__init__()\n",
        "        self.conv1 = nn.Conv2d(1, 10, kernel_size=5)\n",
        "        self.conv2 = nn.Conv2d(10, 20, kernel_size=5)\n",
        "        self.conv2_drop = nn.Dropout2d()\n",
        "        self.fc1 = nn.Linear(320, 50)\n",
        "        self.fc2 = nn.Linear(50, 10)\n",
        "\n",
        "    def forward(self, x):\n",
        "        x = F.relu(F.max_pool2d(self.conv1(x), 2))\n",
        "        x = F.relu(F.max_pool2d(self.conv2(x), 2))\n",
        "        x = self.conv2_drop(x)\n",
        "        x = x.view(-1, 320)\n",
        "        x = F.relu(self.fc1(x))\n",
        "        x = F.dropout(x, training=self.training)\n",
        "        x = self.fc2(x)\n",
        "        return F.log_softmax(x)\n",
        "\n",
        "\n",
        "\n",
        "\n",
        "\n"
      ],
      "metadata": {
        "id": "EQkvw2KOPVl7"
      },
      "execution_count": 4,
      "outputs": []
    },
    {
      "cell_type": "code",
      "source": [
        "# He initialization of weights\n",
        "def weights_init(layer_in):\n",
        "  if isinstance(layer_in, nn.Linear):\n",
        "    nn.init.kaiming_uniform_(layer_in.weight)\n",
        "    layer_in.bias.data.fill_(0.0)"
      ],
      "metadata": {
        "id": "qWZtkCZcU_dg"
      },
      "execution_count": 5,
      "outputs": []
    },
    {
      "cell_type": "code",
      "source": [
        "# Create network\n",
        "model = Net()\n",
        "# Initialize model weights\n",
        "model.apply(weights_init)\n",
        "# Define optimizer\n",
        "optimizer = optim.SGD(model.parameters(), lr=0.01, momentum=0.5)"
      ],
      "metadata": {
        "id": "FslroPJJffrh"
      },
      "execution_count": 6,
      "outputs": []
    },
    {
      "cell_type": "code",
      "source": [
        "# Main training routine\n",
        "def train(epoch):\n",
        "  model.train()\n",
        "  # Get each\n",
        "  for batch_idx, (data, target) in enumerate(train_loader):\n",
        "    optimizer.zero_grad()\n",
        "    output = model(data)\n",
        "    loss = F.nll_loss(output, target)\n",
        "    loss.backward()\n",
        "    optimizer.step()\n",
        "    # Store results\n",
        "    if batch_idx % 10 == 0:\n",
        "      print('Train Epoch: {} [{}/{}]\\tLoss: {:.6f}'.format(\n",
        "        epoch, batch_idx * len(data), len(train_loader.dataset), loss.item()))"
      ],
      "metadata": {
        "id": "xKQd9PzkQ766"
      },
      "execution_count": 7,
      "outputs": []
    },
    {
      "cell_type": "code",
      "source": [
        "# Run on test data\n",
        "def test():\n",
        "  model.eval()\n",
        "  test_loss = 0\n",
        "  correct = 0\n",
        "  with torch.no_grad():\n",
        "    for data, target in test_loader:\n",
        "      output = model(data)\n",
        "      test_loss += F.nll_loss(output, target, size_average=False).item()\n",
        "      pred = output.data.max(1, keepdim=True)[1]\n",
        "      correct += pred.eq(target.data.view_as(pred)).sum()\n",
        "  test_loss /= len(test_loader.dataset)\n",
        "  print('\\nTest set: Avg. loss: {:.4f}, Accuracy: {}/{} ({:.0f}%)\\n'.format(\n",
        "    test_loss, correct, len(test_loader.dataset),\n",
        "    100. * correct / len(test_loader.dataset)))"
      ],
      "metadata": {
        "id": "Byn-f7qWRLxX"
      },
      "execution_count": 8,
      "outputs": []
    },
    {
      "cell_type": "code",
      "source": [
        "# Get initial performance\n",
        "test()\n",
        "# Train for three epochs\n",
        "n_epochs = 3\n",
        "for epoch in range(1, n_epochs + 1):\n",
        "  train(epoch)\n",
        "  test()"
      ],
      "metadata": {
        "id": "YgLaex1pfhqz",
        "outputId": "0c4a05f5-b4bb-4a5a-bc87-5fbf33238d37",
        "colab": {
          "base_uri": "https://localhost:8080/"
        }
      },
      "execution_count": 9,
      "outputs": [
        {
          "output_type": "stream",
          "name": "stderr",
          "text": [
            "<ipython-input-4-0219c5ec7a42>:34: UserWarning: Implicit dimension choice for log_softmax has been deprecated. Change the call to include dim=X as an argument.\n",
            "  return F.log_softmax(x)\n",
            "/usr/local/lib/python3.10/dist-packages/torch/nn/_reduction.py:51: UserWarning: size_average and reduce args will be deprecated, please use reduction='sum' instead.\n",
            "  warnings.warn(warning.format(ret))\n"
          ]
        },
        {
          "output_type": "stream",
          "name": "stdout",
          "text": [
            "\n",
            "Test set: Avg. loss: 2.3539, Accuracy: 1357/10000 (14%)\n",
            "\n",
            "Train Epoch: 1 [0/60000]\tLoss: 2.517779\n",
            "Train Epoch: 1 [640/60000]\tLoss: 2.177895\n",
            "Train Epoch: 1 [1280/60000]\tLoss: 2.283561\n",
            "Train Epoch: 1 [1920/60000]\tLoss: 2.210863\n",
            "Train Epoch: 1 [2560/60000]\tLoss: 2.111927\n",
            "Train Epoch: 1 [3200/60000]\tLoss: 2.159776\n",
            "Train Epoch: 1 [3840/60000]\tLoss: 2.108260\n",
            "Train Epoch: 1 [4480/60000]\tLoss: 2.063336\n",
            "Train Epoch: 1 [5120/60000]\tLoss: 1.831047\n",
            "Train Epoch: 1 [5760/60000]\tLoss: 1.757210\n",
            "Train Epoch: 1 [6400/60000]\tLoss: 1.854009\n",
            "Train Epoch: 1 [7040/60000]\tLoss: 1.752754\n",
            "Train Epoch: 1 [7680/60000]\tLoss: 1.583438\n",
            "Train Epoch: 1 [8320/60000]\tLoss: 1.633499\n",
            "Train Epoch: 1 [8960/60000]\tLoss: 1.772371\n",
            "Train Epoch: 1 [9600/60000]\tLoss: 1.372620\n",
            "Train Epoch: 1 [10240/60000]\tLoss: 1.259139\n",
            "Train Epoch: 1 [10880/60000]\tLoss: 1.506484\n",
            "Train Epoch: 1 [11520/60000]\tLoss: 1.177586\n",
            "Train Epoch: 1 [12160/60000]\tLoss: 1.234119\n",
            "Train Epoch: 1 [12800/60000]\tLoss: 1.469061\n",
            "Train Epoch: 1 [13440/60000]\tLoss: 1.311500\n",
            "Train Epoch: 1 [14080/60000]\tLoss: 0.965935\n",
            "Train Epoch: 1 [14720/60000]\tLoss: 1.443348\n",
            "Train Epoch: 1 [15360/60000]\tLoss: 0.940794\n",
            "Train Epoch: 1 [16000/60000]\tLoss: 1.070959\n",
            "Train Epoch: 1 [16640/60000]\tLoss: 0.998825\n",
            "Train Epoch: 1 [17280/60000]\tLoss: 0.962969\n",
            "Train Epoch: 1 [17920/60000]\tLoss: 1.086826\n",
            "Train Epoch: 1 [18560/60000]\tLoss: 1.005600\n",
            "Train Epoch: 1 [19200/60000]\tLoss: 1.128202\n",
            "Train Epoch: 1 [19840/60000]\tLoss: 0.993106\n",
            "Train Epoch: 1 [20480/60000]\tLoss: 0.941318\n",
            "Train Epoch: 1 [21120/60000]\tLoss: 1.198565\n",
            "Train Epoch: 1 [21760/60000]\tLoss: 0.927297\n",
            "Train Epoch: 1 [22400/60000]\tLoss: 1.075149\n",
            "Train Epoch: 1 [23040/60000]\tLoss: 0.815808\n",
            "Train Epoch: 1 [23680/60000]\tLoss: 1.224639\n",
            "Train Epoch: 1 [24320/60000]\tLoss: 0.915419\n",
            "Train Epoch: 1 [24960/60000]\tLoss: 0.851255\n",
            "Train Epoch: 1 [25600/60000]\tLoss: 1.004535\n",
            "Train Epoch: 1 [26240/60000]\tLoss: 1.016654\n",
            "Train Epoch: 1 [26880/60000]\tLoss: 0.685128\n",
            "Train Epoch: 1 [27520/60000]\tLoss: 0.995961\n",
            "Train Epoch: 1 [28160/60000]\tLoss: 0.668225\n",
            "Train Epoch: 1 [28800/60000]\tLoss: 0.990233\n",
            "Train Epoch: 1 [29440/60000]\tLoss: 0.823085\n",
            "Train Epoch: 1 [30080/60000]\tLoss: 0.633226\n",
            "Train Epoch: 1 [30720/60000]\tLoss: 0.956433\n",
            "Train Epoch: 1 [31360/60000]\tLoss: 0.799614\n",
            "Train Epoch: 1 [32000/60000]\tLoss: 0.583826\n",
            "Train Epoch: 1 [32640/60000]\tLoss: 0.640560\n",
            "Train Epoch: 1 [33280/60000]\tLoss: 0.696584\n",
            "Train Epoch: 1 [33920/60000]\tLoss: 0.844600\n",
            "Train Epoch: 1 [34560/60000]\tLoss: 0.565442\n",
            "Train Epoch: 1 [35200/60000]\tLoss: 0.873164\n",
            "Train Epoch: 1 [35840/60000]\tLoss: 0.882472\n",
            "Train Epoch: 1 [36480/60000]\tLoss: 0.694410\n",
            "Train Epoch: 1 [37120/60000]\tLoss: 0.793708\n",
            "Train Epoch: 1 [37760/60000]\tLoss: 0.692061\n",
            "Train Epoch: 1 [38400/60000]\tLoss: 0.637860\n",
            "Train Epoch: 1 [39040/60000]\tLoss: 0.614261\n",
            "Train Epoch: 1 [39680/60000]\tLoss: 0.784364\n",
            "Train Epoch: 1 [40320/60000]\tLoss: 0.380446\n",
            "Train Epoch: 1 [40960/60000]\tLoss: 0.404494\n",
            "Train Epoch: 1 [41600/60000]\tLoss: 0.477705\n",
            "Train Epoch: 1 [42240/60000]\tLoss: 0.612434\n",
            "Train Epoch: 1 [42880/60000]\tLoss: 0.613443\n",
            "Train Epoch: 1 [43520/60000]\tLoss: 0.834269\n",
            "Train Epoch: 1 [44160/60000]\tLoss: 0.814048\n",
            "Train Epoch: 1 [44800/60000]\tLoss: 0.621171\n",
            "Train Epoch: 1 [45440/60000]\tLoss: 0.472034\n",
            "Train Epoch: 1 [46080/60000]\tLoss: 0.449981\n",
            "Train Epoch: 1 [46720/60000]\tLoss: 0.573476\n",
            "Train Epoch: 1 [47360/60000]\tLoss: 0.758447\n",
            "Train Epoch: 1 [48000/60000]\tLoss: 0.621691\n",
            "Train Epoch: 1 [48640/60000]\tLoss: 0.336446\n",
            "Train Epoch: 1 [49280/60000]\tLoss: 0.652746\n",
            "Train Epoch: 1 [49920/60000]\tLoss: 0.587411\n",
            "Train Epoch: 1 [50560/60000]\tLoss: 0.531631\n",
            "Train Epoch: 1 [51200/60000]\tLoss: 0.660600\n",
            "Train Epoch: 1 [51840/60000]\tLoss: 0.638895\n",
            "Train Epoch: 1 [52480/60000]\tLoss: 0.757231\n",
            "Train Epoch: 1 [53120/60000]\tLoss: 0.466687\n",
            "Train Epoch: 1 [53760/60000]\tLoss: 0.452897\n",
            "Train Epoch: 1 [54400/60000]\tLoss: 0.586907\n",
            "Train Epoch: 1 [55040/60000]\tLoss: 0.675986\n",
            "Train Epoch: 1 [55680/60000]\tLoss: 0.473817\n",
            "Train Epoch: 1 [56320/60000]\tLoss: 0.304901\n",
            "Train Epoch: 1 [56960/60000]\tLoss: 0.608755\n",
            "Train Epoch: 1 [57600/60000]\tLoss: 0.451401\n",
            "Train Epoch: 1 [58240/60000]\tLoss: 0.757667\n",
            "Train Epoch: 1 [58880/60000]\tLoss: 0.527727\n",
            "Train Epoch: 1 [59520/60000]\tLoss: 0.470596\n",
            "\n",
            "Test set: Avg. loss: 0.1785, Accuracy: 9522/10000 (95%)\n",
            "\n",
            "Train Epoch: 2 [0/60000]\tLoss: 0.462129\n",
            "Train Epoch: 2 [640/60000]\tLoss: 0.469381\n",
            "Train Epoch: 2 [1280/60000]\tLoss: 0.517914\n",
            "Train Epoch: 2 [1920/60000]\tLoss: 0.508597\n",
            "Train Epoch: 2 [2560/60000]\tLoss: 0.666058\n",
            "Train Epoch: 2 [3200/60000]\tLoss: 0.392767\n",
            "Train Epoch: 2 [3840/60000]\tLoss: 0.567268\n",
            "Train Epoch: 2 [4480/60000]\tLoss: 0.481660\n",
            "Train Epoch: 2 [5120/60000]\tLoss: 0.813457\n",
            "Train Epoch: 2 [5760/60000]\tLoss: 0.385174\n",
            "Train Epoch: 2 [6400/60000]\tLoss: 0.602745\n",
            "Train Epoch: 2 [7040/60000]\tLoss: 0.257641\n",
            "Train Epoch: 2 [7680/60000]\tLoss: 0.576669\n",
            "Train Epoch: 2 [8320/60000]\tLoss: 0.479080\n",
            "Train Epoch: 2 [8960/60000]\tLoss: 0.428184\n",
            "Train Epoch: 2 [9600/60000]\tLoss: 0.681701\n",
            "Train Epoch: 2 [10240/60000]\tLoss: 0.312355\n",
            "Train Epoch: 2 [10880/60000]\tLoss: 0.666077\n",
            "Train Epoch: 2 [11520/60000]\tLoss: 0.481615\n",
            "Train Epoch: 2 [12160/60000]\tLoss: 0.396860\n",
            "Train Epoch: 2 [12800/60000]\tLoss: 0.510949\n",
            "Train Epoch: 2 [13440/60000]\tLoss: 0.497433\n",
            "Train Epoch: 2 [14080/60000]\tLoss: 0.344756\n",
            "Train Epoch: 2 [14720/60000]\tLoss: 0.426608\n",
            "Train Epoch: 2 [15360/60000]\tLoss: 0.363767\n",
            "Train Epoch: 2 [16000/60000]\tLoss: 0.441640\n",
            "Train Epoch: 2 [16640/60000]\tLoss: 0.499438\n",
            "Train Epoch: 2 [17280/60000]\tLoss: 0.189443\n",
            "Train Epoch: 2 [17920/60000]\tLoss: 0.443059\n",
            "Train Epoch: 2 [18560/60000]\tLoss: 0.493927\n",
            "Train Epoch: 2 [19200/60000]\tLoss: 0.427894\n",
            "Train Epoch: 2 [19840/60000]\tLoss: 0.452650\n",
            "Train Epoch: 2 [20480/60000]\tLoss: 0.284459\n",
            "Train Epoch: 2 [21120/60000]\tLoss: 0.480940\n",
            "Train Epoch: 2 [21760/60000]\tLoss: 0.364516\n",
            "Train Epoch: 2 [22400/60000]\tLoss: 0.420089\n",
            "Train Epoch: 2 [23040/60000]\tLoss: 0.322657\n",
            "Train Epoch: 2 [23680/60000]\tLoss: 0.457645\n",
            "Train Epoch: 2 [24320/60000]\tLoss: 0.543102\n",
            "Train Epoch: 2 [24960/60000]\tLoss: 0.483135\n",
            "Train Epoch: 2 [25600/60000]\tLoss: 0.421935\n",
            "Train Epoch: 2 [26240/60000]\tLoss: 0.348132\n",
            "Train Epoch: 2 [26880/60000]\tLoss: 0.371445\n",
            "Train Epoch: 2 [27520/60000]\tLoss: 0.330599\n",
            "Train Epoch: 2 [28160/60000]\tLoss: 0.467124\n",
            "Train Epoch: 2 [28800/60000]\tLoss: 0.624703\n",
            "Train Epoch: 2 [29440/60000]\tLoss: 0.511509\n",
            "Train Epoch: 2 [30080/60000]\tLoss: 0.484909\n",
            "Train Epoch: 2 [30720/60000]\tLoss: 0.356362\n",
            "Train Epoch: 2 [31360/60000]\tLoss: 0.450902\n",
            "Train Epoch: 2 [32000/60000]\tLoss: 0.407195\n",
            "Train Epoch: 2 [32640/60000]\tLoss: 0.799584\n",
            "Train Epoch: 2 [33280/60000]\tLoss: 0.262897\n",
            "Train Epoch: 2 [33920/60000]\tLoss: 0.383796\n",
            "Train Epoch: 2 [34560/60000]\tLoss: 0.401236\n",
            "Train Epoch: 2 [35200/60000]\tLoss: 0.330737\n",
            "Train Epoch: 2 [35840/60000]\tLoss: 0.346400\n",
            "Train Epoch: 2 [36480/60000]\tLoss: 0.245908\n",
            "Train Epoch: 2 [37120/60000]\tLoss: 0.551271\n",
            "Train Epoch: 2 [37760/60000]\tLoss: 0.518483\n",
            "Train Epoch: 2 [38400/60000]\tLoss: 0.344013\n",
            "Train Epoch: 2 [39040/60000]\tLoss: 0.346759\n",
            "Train Epoch: 2 [39680/60000]\tLoss: 0.270280\n",
            "Train Epoch: 2 [40320/60000]\tLoss: 0.170272\n",
            "Train Epoch: 2 [40960/60000]\tLoss: 0.517861\n",
            "Train Epoch: 2 [41600/60000]\tLoss: 0.623635\n",
            "Train Epoch: 2 [42240/60000]\tLoss: 0.383646\n",
            "Train Epoch: 2 [42880/60000]\tLoss: 0.356720\n",
            "Train Epoch: 2 [43520/60000]\tLoss: 0.501086\n",
            "Train Epoch: 2 [44160/60000]\tLoss: 0.408853\n",
            "Train Epoch: 2 [44800/60000]\tLoss: 0.417743\n",
            "Train Epoch: 2 [45440/60000]\tLoss: 0.276151\n",
            "Train Epoch: 2 [46080/60000]\tLoss: 0.426841\n",
            "Train Epoch: 2 [46720/60000]\tLoss: 0.316921\n",
            "Train Epoch: 2 [47360/60000]\tLoss: 0.290335\n",
            "Train Epoch: 2 [48000/60000]\tLoss: 0.488503\n",
            "Train Epoch: 2 [48640/60000]\tLoss: 0.443820\n",
            "Train Epoch: 2 [49280/60000]\tLoss: 0.204672\n",
            "Train Epoch: 2 [49920/60000]\tLoss: 0.292624\n",
            "Train Epoch: 2 [50560/60000]\tLoss: 0.348018\n",
            "Train Epoch: 2 [51200/60000]\tLoss: 0.516583\n",
            "Train Epoch: 2 [51840/60000]\tLoss: 0.299557\n",
            "Train Epoch: 2 [52480/60000]\tLoss: 0.481371\n",
            "Train Epoch: 2 [53120/60000]\tLoss: 0.359906\n",
            "Train Epoch: 2 [53760/60000]\tLoss: 0.200339\n",
            "Train Epoch: 2 [54400/60000]\tLoss: 0.332655\n",
            "Train Epoch: 2 [55040/60000]\tLoss: 0.540695\n",
            "Train Epoch: 2 [55680/60000]\tLoss: 0.539856\n",
            "Train Epoch: 2 [56320/60000]\tLoss: 0.188837\n",
            "Train Epoch: 2 [56960/60000]\tLoss: 0.565845\n",
            "Train Epoch: 2 [57600/60000]\tLoss: 0.206268\n",
            "Train Epoch: 2 [58240/60000]\tLoss: 0.326390\n",
            "Train Epoch: 2 [58880/60000]\tLoss: 0.281963\n",
            "Train Epoch: 2 [59520/60000]\tLoss: 0.210299\n",
            "\n",
            "Test set: Avg. loss: 0.1146, Accuracy: 9635/10000 (96%)\n",
            "\n",
            "Train Epoch: 3 [0/60000]\tLoss: 0.184302\n",
            "Train Epoch: 3 [640/60000]\tLoss: 0.588097\n",
            "Train Epoch: 3 [1280/60000]\tLoss: 0.251339\n",
            "Train Epoch: 3 [1920/60000]\tLoss: 0.388962\n",
            "Train Epoch: 3 [2560/60000]\tLoss: 0.287922\n",
            "Train Epoch: 3 [3200/60000]\tLoss: 0.633190\n",
            "Train Epoch: 3 [3840/60000]\tLoss: 0.328391\n",
            "Train Epoch: 3 [4480/60000]\tLoss: 0.366305\n",
            "Train Epoch: 3 [5120/60000]\tLoss: 0.426757\n",
            "Train Epoch: 3 [5760/60000]\tLoss: 0.134406\n",
            "Train Epoch: 3 [6400/60000]\tLoss: 0.564605\n",
            "Train Epoch: 3 [7040/60000]\tLoss: 0.425586\n",
            "Train Epoch: 3 [7680/60000]\tLoss: 0.187139\n",
            "Train Epoch: 3 [8320/60000]\tLoss: 0.339611\n",
            "Train Epoch: 3 [8960/60000]\tLoss: 0.418514\n",
            "Train Epoch: 3 [9600/60000]\tLoss: 0.235315\n",
            "Train Epoch: 3 [10240/60000]\tLoss: 0.550252\n",
            "Train Epoch: 3 [10880/60000]\tLoss: 0.255925\n",
            "Train Epoch: 3 [11520/60000]\tLoss: 0.300507\n",
            "Train Epoch: 3 [12160/60000]\tLoss: 0.262421\n",
            "Train Epoch: 3 [12800/60000]\tLoss: 0.403507\n",
            "Train Epoch: 3 [13440/60000]\tLoss: 0.357430\n",
            "Train Epoch: 3 [14080/60000]\tLoss: 0.368253\n",
            "Train Epoch: 3 [14720/60000]\tLoss: 0.320078\n",
            "Train Epoch: 3 [15360/60000]\tLoss: 0.257851\n",
            "Train Epoch: 3 [16000/60000]\tLoss: 0.342454\n",
            "Train Epoch: 3 [16640/60000]\tLoss: 0.216659\n",
            "Train Epoch: 3 [17280/60000]\tLoss: 0.367989\n",
            "Train Epoch: 3 [17920/60000]\tLoss: 0.185252\n",
            "Train Epoch: 3 [18560/60000]\tLoss: 0.514268\n",
            "Train Epoch: 3 [19200/60000]\tLoss: 0.335502\n",
            "Train Epoch: 3 [19840/60000]\tLoss: 0.307525\n",
            "Train Epoch: 3 [20480/60000]\tLoss: 0.283020\n",
            "Train Epoch: 3 [21120/60000]\tLoss: 0.340482\n",
            "Train Epoch: 3 [21760/60000]\tLoss: 0.458747\n",
            "Train Epoch: 3 [22400/60000]\tLoss: 0.273472\n",
            "Train Epoch: 3 [23040/60000]\tLoss: 0.212578\n",
            "Train Epoch: 3 [23680/60000]\tLoss: 0.204424\n",
            "Train Epoch: 3 [24320/60000]\tLoss: 0.458777\n",
            "Train Epoch: 3 [24960/60000]\tLoss: 0.289499\n",
            "Train Epoch: 3 [25600/60000]\tLoss: 0.564255\n",
            "Train Epoch: 3 [26240/60000]\tLoss: 0.175633\n",
            "Train Epoch: 3 [26880/60000]\tLoss: 0.537969\n",
            "Train Epoch: 3 [27520/60000]\tLoss: 0.443977\n",
            "Train Epoch: 3 [28160/60000]\tLoss: 0.481251\n",
            "Train Epoch: 3 [28800/60000]\tLoss: 0.376740\n",
            "Train Epoch: 3 [29440/60000]\tLoss: 0.194240\n",
            "Train Epoch: 3 [30080/60000]\tLoss: 0.259663\n",
            "Train Epoch: 3 [30720/60000]\tLoss: 0.351756\n",
            "Train Epoch: 3 [31360/60000]\tLoss: 0.301047\n",
            "Train Epoch: 3 [32000/60000]\tLoss: 0.387365\n",
            "Train Epoch: 3 [32640/60000]\tLoss: 0.529347\n",
            "Train Epoch: 3 [33280/60000]\tLoss: 0.251445\n",
            "Train Epoch: 3 [33920/60000]\tLoss: 0.437505\n",
            "Train Epoch: 3 [34560/60000]\tLoss: 0.297097\n",
            "Train Epoch: 3 [35200/60000]\tLoss: 0.279002\n",
            "Train Epoch: 3 [35840/60000]\tLoss: 0.538399\n",
            "Train Epoch: 3 [36480/60000]\tLoss: 0.229698\n",
            "Train Epoch: 3 [37120/60000]\tLoss: 0.146610\n",
            "Train Epoch: 3 [37760/60000]\tLoss: 0.352701\n",
            "Train Epoch: 3 [38400/60000]\tLoss: 0.393699\n",
            "Train Epoch: 3 [39040/60000]\tLoss: 0.189560\n",
            "Train Epoch: 3 [39680/60000]\tLoss: 0.196224\n",
            "Train Epoch: 3 [40320/60000]\tLoss: 0.195741\n",
            "Train Epoch: 3 [40960/60000]\tLoss: 0.360599\n",
            "Train Epoch: 3 [41600/60000]\tLoss: 0.468738\n",
            "Train Epoch: 3 [42240/60000]\tLoss: 0.211846\n",
            "Train Epoch: 3 [42880/60000]\tLoss: 0.183351\n",
            "Train Epoch: 3 [43520/60000]\tLoss: 0.316217\n",
            "Train Epoch: 3 [44160/60000]\tLoss: 0.276196\n",
            "Train Epoch: 3 [44800/60000]\tLoss: 0.232497\n",
            "Train Epoch: 3 [45440/60000]\tLoss: 0.433877\n",
            "Train Epoch: 3 [46080/60000]\tLoss: 0.335375\n",
            "Train Epoch: 3 [46720/60000]\tLoss: 0.596113\n",
            "Train Epoch: 3 [47360/60000]\tLoss: 0.288301\n",
            "Train Epoch: 3 [48000/60000]\tLoss: 0.252114\n",
            "Train Epoch: 3 [48640/60000]\tLoss: 0.349222\n",
            "Train Epoch: 3 [49280/60000]\tLoss: 0.295325\n",
            "Train Epoch: 3 [49920/60000]\tLoss: 0.369633\n",
            "Train Epoch: 3 [50560/60000]\tLoss: 0.205934\n",
            "Train Epoch: 3 [51200/60000]\tLoss: 0.245515\n",
            "Train Epoch: 3 [51840/60000]\tLoss: 0.302267\n",
            "Train Epoch: 3 [52480/60000]\tLoss: 0.192490\n",
            "Train Epoch: 3 [53120/60000]\tLoss: 0.330234\n",
            "Train Epoch: 3 [53760/60000]\tLoss: 0.380643\n",
            "Train Epoch: 3 [54400/60000]\tLoss: 0.166266\n",
            "Train Epoch: 3 [55040/60000]\tLoss: 0.537834\n",
            "Train Epoch: 3 [55680/60000]\tLoss: 0.177595\n",
            "Train Epoch: 3 [56320/60000]\tLoss: 0.177438\n",
            "Train Epoch: 3 [56960/60000]\tLoss: 0.257075\n",
            "Train Epoch: 3 [57600/60000]\tLoss: 0.492238\n",
            "Train Epoch: 3 [58240/60000]\tLoss: 0.141416\n",
            "Train Epoch: 3 [58880/60000]\tLoss: 0.387791\n",
            "Train Epoch: 3 [59520/60000]\tLoss: 0.186836\n",
            "\n",
            "Test set: Avg. loss: 0.0876, Accuracy: 9720/10000 (97%)\n",
            "\n"
          ]
        }
      ]
    },
    {
      "cell_type": "code",
      "source": [
        "# Run network on data we got before and show predictions\n",
        "output = model(example_data)\n",
        "\n",
        "fig = plt.figure()\n",
        "for i in range(10):\n",
        "  plt.subplot(5,5,i+1)\n",
        "  plt.tight_layout()\n",
        "  plt.imshow(example_data[i][0], cmap='gray', interpolation='none')\n",
        "  plt.title(\"Prediction: {}\".format(\n",
        "    output.data.max(1, keepdim=True)[1][i].item()))\n",
        "  plt.xticks([])\n",
        "  plt.yticks([])\n",
        "plt.show()"
      ],
      "metadata": {
        "id": "o7fRUAy9Se1B",
        "outputId": "7d05a721-95cd-4cab-c2d0-70f063dbb047",
        "colab": {
          "base_uri": "https://localhost:8080/",
          "height": 242
        }
      },
      "execution_count": 10,
      "outputs": [
        {
          "output_type": "stream",
          "name": "stderr",
          "text": [
            "<ipython-input-4-0219c5ec7a42>:34: UserWarning: Implicit dimension choice for log_softmax has been deprecated. Change the call to include dim=X as an argument.\n",
            "  return F.log_softmax(x)\n"
          ]
        },
        {
          "output_type": "display_data",
          "data": {
            "text/plain": [
              "<Figure size 640x480 with 10 Axes>"
            ],
            "image/png": "[encoded data removed]"
          },
          "metadata": {}
        }
      ]
    }
  ]
}